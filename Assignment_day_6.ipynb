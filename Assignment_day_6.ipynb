{
  "nbformat": 4,
  "nbformat_minor": 0,
  "metadata": {
    "colab": {
      "name": "Assignment day 6.ipynb",
      "provenance": [],
      "collapsed_sections": [],
      "include_colab_link": true
    },
    "kernelspec": {
      "name": "python3",
      "display_name": "Python 3"
    }
  },
  "cells": [
    {
      "cell_type": "markdown",
      "metadata": {
        "id": "view-in-github",
        "colab_type": "text"
      },
      "source": [
        "<a href=\"https://colab.research.google.com/github/yogesh0609/Letsupgrade_python/blob/master/Assignment_day_6.ipynb\" target=\"_parent\"><img src=\"https://colab.research.google.com/assets/colab-badge.svg\" alt=\"Open In Colab\"/></a>"
      ]
    },
    {
      "cell_type": "markdown",
      "metadata": {
        "id": "64_qPbUtT50i",
        "colab_type": "text"
      },
      "source": [
        "Assignment 1"
      ]
    },
    {
      "cell_type": "code",
      "metadata": {
        "id": "szewPH1fh167",
        "colab_type": "code",
        "colab": {
          "base_uri": "https://localhost:8080/",
          "height": 52
        },
        "outputId": "54b10eed-aa7a-4445-b8ea-87ad8f2539f6"
      },
      "source": [
        "class BankAccount(): \n",
        "  val=0\n",
        "  def __init__(self, ownername, balance):\n",
        "    self.ownername = ownername\n",
        "    self.balance = balance\n",
        "\n",
        "  def deposit(self,depo): \n",
        "         val = depo + self.balance\n",
        "         self.balance=depo + self.balance\n",
        "         \n",
        "         print('The amount deposited is :', depo,'Your available balance is:',val)\n",
        "         \n",
        "  \n",
        "  def withdraw(self,wd):\n",
        "         if(wd<self.balance):\n",
        "           v=self.balance-wd\n",
        "           print('The amount withdrawen is :', wd,'Your available balance is:',v)\n",
        "         else:\n",
        "           print('Insufficient balance')  \n",
        "\n",
        "ob=BankAccount(\"sanu\",100)\n",
        "ob.deposit(100)\n",
        "ob.withdraw(50)"
      ],
      "execution_count": null,
      "outputs": [
        {
          "output_type": "stream",
          "text": [
            "The amount deposited is : 100 Your available balance is: 200\n",
            "The amount withdrawen is : 50 Your available balance is: 150\n"
          ],
          "name": "stdout"
        }
      ]
    },
    {
      "cell_type": "markdown",
      "metadata": {
        "id": "1SWXgFRNT6B9",
        "colab_type": "text"
      },
      "source": [
        "Assignment 2"
      ]
    },
    {
      "cell_type": "code",
      "metadata": {
        "id": "SMNPQgTnUDim",
        "colab_type": "code",
        "colab": {
          "base_uri": "https://localhost:8080/",
          "height": 52
        },
        "outputId": "a7cfa0e2-9a79-43b6-9868-22531577570e"
      },
      "source": [
        "import math \n",
        "pi = math.pi \n",
        "class Cone(): \n",
        "  def __init__(self, radius, height):\n",
        "    self.radius = radius\n",
        "    self.height = height\n",
        "\n",
        "  def volume(self): \n",
        "         print ((self.height / 3) * pi * self.radius * self.radius  )\n",
        "  \n",
        "  def surfacearea(self): \n",
        "         print(pi * self.radius * self.radius)\n",
        "\n",
        "ob=Cone(1,1)\n",
        "ob.volume()\n",
        "ob.surfacearea()"
      ],
      "execution_count": null,
      "outputs": [
        {
          "output_type": "stream",
          "text": [
            "1.0471975511965976\n",
            "3.141592653589793\n"
          ],
          "name": "stdout"
        }
      ]
    }
  ]
}