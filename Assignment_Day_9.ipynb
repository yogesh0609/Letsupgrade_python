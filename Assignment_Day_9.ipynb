{
  "nbformat": 4,
  "nbformat_minor": 0,
  "metadata": {
    "colab": {
      "name": "Assignment Day 9.ipynb",
      "provenance": [],
      "collapsed_sections": [],
      "include_colab_link": true
    },
    "kernelspec": {
      "name": "python3",
      "display_name": "Python 3"
    }
  },
  "cells": [
    {
      "cell_type": "markdown",
      "metadata": {
        "id": "view-in-github",
        "colab_type": "text"
      },
      "source": [
        "<a href=\"https://colab.research.google.com/github/yogesh0609/Letsupgrade_python/blob/master/Assignment_Day_9.ipynb\" target=\"_parent\"><img src=\"https://colab.research.google.com/assets/colab-badge.svg\" alt=\"Open In Colab\"/></a>"
      ]
    },
    {
      "cell_type": "markdown",
      "metadata": {
        "id": "_YxRX-ZRoxWz",
        "colab_type": "text"
      },
      "source": [
        "Assignment 1"
      ]
    },
    {
      "cell_type": "code",
      "metadata": {
        "id": "VqM3f8wloyoK",
        "colab_type": "code",
        "colab": {}
      },
      "source": [
        "import unittest\n",
        "def is_prime(number):\n",
        "    \"\"\"Return True if *number* is prime.\"\"\"\n",
        "    for element in range(number):\n",
        "        if number % element == 0:\n",
        "            return False\n",
        "\n",
        "    return True\n",
        "\n",
        "\n",
        "class PrimesTestCase(unittest.TestCase):\n",
        "    \"\"\"Tests for `primes.py`.\"\"\"\n",
        "\n",
        "    def test_is_five_prime(self):\n",
        "        \"\"\"Is five successfully determined to be prime?\"\"\"\n",
        "        self.assertTrue(is_prime(5))\n",
        "\n",
        "if __name__ == '__main__':\n",
        "    unittest.main()     "
      ],
      "execution_count": null,
      "outputs": []
    },
    {
      "cell_type": "markdown",
      "metadata": {
        "id": "GZGSOVU5oy97",
        "colab_type": "text"
      },
      "source": [
        "Assignment 2"
      ]
    },
    {
      "cell_type": "code",
      "metadata": {
        "id": "uBcMpPS_ozLO",
        "colab_type": "code",
        "colab": {
          "base_uri": "https://localhost:8080/",
          "height": 243
        },
        "outputId": "d1618f42-2f5e-4bb1-806c-e5ee8deb0cdd"
      },
      "source": [
        "def isArmstrong():\n",
        "    for num in range(1, 1001):\n",
        "        order = len(str(num))\n",
        "        sum = 0\n",
        "        temp = num\n",
        "        while temp > 0:\n",
        "          digit = temp % 10\n",
        "          sum += digit ** order\n",
        "          temp //= 10\n",
        "\n",
        "        if num == sum:\n",
        "          yield(num)\n",
        "   \n",
        "for i in isArmstrong():\n",
        "    print(i)"
      ],
      "execution_count": null,
      "outputs": [
        {
          "output_type": "stream",
          "text": [
            "1\n",
            "2\n",
            "3\n",
            "4\n",
            "5\n",
            "6\n",
            "7\n",
            "8\n",
            "9\n",
            "153\n",
            "370\n",
            "371\n",
            "407\n"
          ],
          "name": "stdout"
        }
      ]
    }
  ]
}