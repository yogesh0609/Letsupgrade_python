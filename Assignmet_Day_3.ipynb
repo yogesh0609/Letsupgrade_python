{
  "nbformat": 4,
  "nbformat_minor": 0,
  "metadata": {
    "colab": {
      "name": "Assignmet  Day 3.ipynb",
      "provenance": [],
      "collapsed_sections": [],
      "include_colab_link": true
    },
    "kernelspec": {
      "name": "python3",
      "display_name": "Python 3"
    }
  },
  "cells": [
    {
      "cell_type": "markdown",
      "metadata": {
        "id": "view-in-github",
        "colab_type": "text"
      },
      "source": [
        "<a href=\"https://colab.research.google.com/github/yogesh0609/Letsupgrade_python/blob/master/Assignmet_Day_3.ipynb\" target=\"_parent\"><img src=\"https://colab.research.google.com/assets/colab-badge.svg\" alt=\"Open In Colab\"/></a>"
      ]
    },
    {
      "cell_type": "markdown",
      "metadata": {
        "id": "pRvuB1x1o5rx",
        "colab_type": "text"
      },
      "source": [
        "Assignment-1"
      ]
    },
    {
      "cell_type": "code",
      "metadata": {
        "id": "1Kpp9VXio-r8",
        "colab_type": "code",
        "colab": {}
      },
      "source": [
        "x = int(input(\"Enter the Altitude: \"))\n",
        "if x<=1000:\n",
        "    print(\"Safe to land\")\n",
        "elif x>1000 and x<=5000:\n",
        "    print(\"Bring down to 1000ft\")\n",
        "else:\n",
        "    print(\"Turn Around\")"
      ],
      "execution_count": null,
      "outputs": []
    },
    {
      "cell_type": "markdown",
      "metadata": {
        "id": "8b2XFlxnpEyt",
        "colab_type": "text"
      },
      "source": [
        "Assignment-2"
      ]
    },
    {
      "cell_type": "code",
      "metadata": {
        "id": "upBjAoOopHTR",
        "colab_type": "code",
        "colab": {
          "base_uri": "https://localhost:8080/",
          "height": 799
        },
        "outputId": "13213523-dcd9-4899-8e67-03344bbd871c"
      },
      "source": [
        "for num in range(1,201):  \n",
        "   if num > 1:  \n",
        "       for i in range(2,num):  \n",
        "           if (num % i) == 0:  \n",
        "               break  \n",
        "       else:  \n",
        "           print(num)  "
      ],
      "execution_count": null,
      "outputs": [
        {
          "output_type": "stream",
          "text": [
            "2\n",
            "3\n",
            "5\n",
            "7\n",
            "11\n",
            "13\n",
            "17\n",
            "19\n",
            "23\n",
            "29\n",
            "31\n",
            "37\n",
            "41\n",
            "43\n",
            "47\n",
            "53\n",
            "59\n",
            "61\n",
            "67\n",
            "71\n",
            "73\n",
            "79\n",
            "83\n",
            "89\n",
            "97\n",
            "101\n",
            "103\n",
            "107\n",
            "109\n",
            "113\n",
            "127\n",
            "131\n",
            "137\n",
            "139\n",
            "149\n",
            "151\n",
            "157\n",
            "163\n",
            "167\n",
            "173\n",
            "179\n",
            "181\n",
            "191\n",
            "193\n",
            "197\n",
            "199\n"
          ],
          "name": "stdout"
        }
      ]
    }
  ]
}