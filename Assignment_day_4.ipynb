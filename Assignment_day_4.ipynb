{
  "nbformat": 4,
  "nbformat_minor": 0,
  "metadata": {
    "colab": {
      "name": "Assignment day-4.ipynb",
      "provenance": [],
      "collapsed_sections": [],
      "include_colab_link": true
    },
    "kernelspec": {
      "name": "python3",
      "display_name": "Python 3"
    }
  },
  "cells": [
    {
      "cell_type": "markdown",
      "metadata": {
        "id": "view-in-github",
        "colab_type": "text"
      },
      "source": [
        "<a href=\"https://colab.research.google.com/github/yogesh0609/Letsupgrade_python/blob/master/Assignment_day_4.ipynb\" target=\"_parent\"><img src=\"https://colab.research.google.com/assets/colab-badge.svg\" alt=\"Open In Colab\"/></a>"
      ]
    },
    {
      "cell_type": "markdown",
      "metadata": {
        "id": "g2weqHbqIr8e",
        "colab_type": "text"
      },
      "source": [
        "Amstrong Number"
      ]
    },
    {
      "cell_type": "code",
      "metadata": {
        "id": "yqi8OrTyIwRb",
        "colab_type": "code",
        "colab": {
          "base_uri": "https://localhost:8080/",
          "height": 34
        },
        "outputId": "4ca7bdb1-97a1-4543-d6c8-74f9e8f259a3"
      },
      "source": [
        "for n in range(1042000,702648265):\n",
        "    order = len(str(n))\n",
        "    sum = 0\n",
        "    temp = n\n",
        "    while temp > 0:\n",
        "       digit = temp % 10\n",
        "       sum += digit ** order\n",
        "       temp //= 10\n",
        " \n",
        "    if n == sum:\n",
        "       print('The first armstrong number is', n)\n",
        "       break;"
      ],
      "execution_count": null,
      "outputs": [
        {
          "output_type": "stream",
          "text": [
            "The first armstrong number is 1741725\n"
          ],
          "name": "stdout"
        }
      ]
    }
  ]
}