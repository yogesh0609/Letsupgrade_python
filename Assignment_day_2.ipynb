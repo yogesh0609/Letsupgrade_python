{
  "nbformat": 4,
  "nbformat_minor": 0,
  "metadata": {
    "colab": {
      "name": "Assignment day 2.ipynb",
      "provenance": [],
      "collapsed_sections": [],
      "include_colab_link": true
    },
    "kernelspec": {
      "name": "python3",
      "display_name": "Python 3"
    }
  },
  "cells": [
    {
      "cell_type": "markdown",
      "metadata": {
        "id": "view-in-github",
        "colab_type": "text"
      },
      "source": [
        "<a href=\"https://colab.research.google.com/github/yogesh0609/Letsupgrade_python/blob/master/Assignment_day_2.ipynb\" target=\"_parent\"><img src=\"https://colab.research.google.com/assets/colab-badge.svg\" alt=\"Open In Colab\"/></a>"
      ]
    },
    {
      "cell_type": "markdown",
      "metadata": {
        "id": "s9UeHSaVdFc0",
        "colab_type": "text"
      },
      "source": [
        "List "
      ]
    },
    {
      "cell_type": "markdown",
      "metadata": {
        "id": "6lnmqTSkdImM",
        "colab_type": "text"
      },
      "source": [
        "1.Access Items\n"
      ]
    },
    {
      "cell_type": "code",
      "metadata": {
        "id": "pfNq3s52dUMS",
        "colab_type": "code",
        "colab": {
          "base_uri": "https://localhost:8080/",
          "height": 34
        },
        "outputId": "5a99b342-ff64-4773-9e88-28968c3d4ef8"
      },
      "source": [
        "list1 = [\"USA\", \"INDIA\", \"CANADA\"]\n",
        "print(list1[1])"
      ],
      "execution_count": null,
      "outputs": [
        {
          "output_type": "stream",
          "text": [
            "INDIA\n"
          ],
          "name": "stdout"
        }
      ]
    },
    {
      "cell_type": "markdown",
      "metadata": {
        "id": "5Vr3ZHzedAgL",
        "colab_type": "text"
      },
      "source": [
        "2.Negative Indexing"
      ]
    },
    {
      "cell_type": "code",
      "metadata": {
        "id": "HLnLlTbSdy1P",
        "colab_type": "code",
        "colab": {
          "base_uri": "https://localhost:8080/",
          "height": 34
        },
        "outputId": "653314dc-404f-4005-c1bc-dc0079ba2ba0"
      },
      "source": [
        "list1 = [\"USA\", \"INDIA\", \"CANADA\"]\n",
        "print(list1[-1])"
      ],
      "execution_count": null,
      "outputs": [
        {
          "output_type": "stream",
          "text": [
            "CANADA\n"
          ],
          "name": "stdout"
        }
      ]
    },
    {
      "cell_type": "markdown",
      "metadata": {
        "id": "8QF8MOlKd_jX",
        "colab_type": "text"
      },
      "source": [
        "3.Range of Indexes"
      ]
    },
    {
      "cell_type": "code",
      "metadata": {
        "id": "8ZVURKnbeMvl",
        "colab_type": "code",
        "colab": {
          "base_uri": "https://localhost:8080/",
          "height": 34
        },
        "outputId": "af5d9a00-2bfd-4ae5-b947-6885241ad3bf"
      },
      "source": [
        "list2 = [\"apple\", \"banana\", \"cherry\", \"orange\", \"kiwi\", \"melon\", \"mango\"]\n",
        "print(list2[:4])"
      ],
      "execution_count": null,
      "outputs": [
        {
          "output_type": "stream",
          "text": [
            "['apple', 'banana', 'cherry', 'orange']\n"
          ],
          "name": "stdout"
        }
      ]
    },
    {
      "cell_type": "markdown",
      "metadata": {
        "id": "r4NlOT_MeZMW",
        "colab_type": "text"
      },
      "source": [
        "4.Change Item Value"
      ]
    },
    {
      "cell_type": "code",
      "metadata": {
        "id": "2qMmQXPieoUa",
        "colab_type": "code",
        "colab": {
          "base_uri": "https://localhost:8080/",
          "height": 34
        },
        "outputId": "1cdce4b3-62f9-413d-b822-6470c65d18fc"
      },
      "source": [
        "list3 = [\"apple\", \"banana\", \"cherry\"]\n",
        "list3[1] = \"blackcurrant\"\n",
        "print(list3)"
      ],
      "execution_count": null,
      "outputs": [
        {
          "output_type": "stream",
          "text": [
            "['apple', 'blackcurrant', 'cherry']\n"
          ],
          "name": "stdout"
        }
      ]
    },
    {
      "cell_type": "markdown",
      "metadata": {
        "id": "7LmtxmEremzu",
        "colab_type": "text"
      },
      "source": [
        "5.Remove Item"
      ]
    },
    {
      "cell_type": "code",
      "metadata": {
        "id": "tsSsuRD2e-3n",
        "colab_type": "code",
        "colab": {
          "base_uri": "https://localhost:8080/",
          "height": 34
        },
        "outputId": "ae11e06c-021f-4434-85d6-d165c5878266"
      },
      "source": [
        "list4 = [\"apple\", \"banana\", \"cherry\"]\n",
        "list4.remove(\"banana\")\n",
        "print(list4)"
      ],
      "execution_count": null,
      "outputs": [
        {
          "output_type": "stream",
          "text": [
            "['apple', 'cherry']\n"
          ],
          "name": "stdout"
        }
      ]
    },
    {
      "cell_type": "markdown",
      "metadata": {
        "id": "1t9e6RXwfuT4",
        "colab_type": "text"
      },
      "source": [
        "Tuples\n"
      ]
    },
    {
      "cell_type": "markdown",
      "metadata": {
        "id": "xMvTtFCTfyae",
        "colab_type": "text"
      },
      "source": [
        "1.Access Items"
      ]
    },
    {
      "cell_type": "code",
      "metadata": {
        "id": "Z7ErU2IRhDRO",
        "colab_type": "code",
        "colab": {
          "base_uri": "https://localhost:8080/",
          "height": 34
        },
        "outputId": "9e7eba17-03b8-450f-a61f-a572eefe2d04"
      },
      "source": [
        "tuple1 = (\"USA\", \"INDIA\", \"CANADA\")\n",
        "print(tuple1[1])"
      ],
      "execution_count": null,
      "outputs": [
        {
          "output_type": "stream",
          "text": [
            "INDIA\n"
          ],
          "name": "stdout"
        }
      ]
    },
    {
      "cell_type": "markdown",
      "metadata": {
        "id": "AsmEhLafhJtx",
        "colab_type": "text"
      },
      "source": [
        "2.Negative Indexing"
      ]
    },
    {
      "cell_type": "code",
      "metadata": {
        "id": "JVHTLfMKhuJM",
        "colab_type": "code",
        "colab": {
          "base_uri": "https://localhost:8080/",
          "height": 34
        },
        "outputId": "73b4acb4-6bca-46d9-9435-bf90a5d72542"
      },
      "source": [
        "tuple1 = (\"USA\", \"INDIA\", \"CANADA\")\n",
        "print(tuple1[-1])"
      ],
      "execution_count": null,
      "outputs": [
        {
          "output_type": "stream",
          "text": [
            "CANADA\n"
          ],
          "name": "stdout"
        }
      ]
    },
    {
      "cell_type": "markdown",
      "metadata": {
        "id": "VCdBRHCchKtG",
        "colab_type": "text"
      },
      "source": [
        "3.Range of Indexes"
      ]
    },
    {
      "cell_type": "code",
      "metadata": {
        "id": "JeUpIniMh4l8",
        "colab_type": "code",
        "colab": {
          "base_uri": "https://localhost:8080/",
          "height": 34
        },
        "outputId": "4d422de3-9e6a-46f9-88dc-461a8c39631b"
      },
      "source": [
        "tuple2 = (\"apple\", \"banana\", \"cherry\", \"orange\", \"kiwi\", \"melon\", \"mango\")\n",
        "print(tuple2[2:5])"
      ],
      "execution_count": null,
      "outputs": [
        {
          "output_type": "stream",
          "text": [
            "('cherry', 'orange', 'kiwi')\n"
          ],
          "name": "stdout"
        }
      ]
    },
    {
      "cell_type": "markdown",
      "metadata": {
        "id": "NcRsaE1hhLEZ",
        "colab_type": "text"
      },
      "source": [
        "4.Change Item Value"
      ]
    },
    {
      "cell_type": "code",
      "metadata": {
        "id": "64rvi3tJh-bX",
        "colab_type": "code",
        "colab": {
          "base_uri": "https://localhost:8080/",
          "height": 34
        },
        "outputId": "4fde0c1c-2b12-4096-a502-7c16441b7a1c"
      },
      "source": [
        "x = (\"apple\", \"banana\", \"cherry\")\n",
        "y = list(x)\n",
        "y[1] = \"kiwi\"\n",
        "x = tuple(y)\n",
        "\n",
        "print(x)"
      ],
      "execution_count": null,
      "outputs": [
        {
          "output_type": "stream",
          "text": [
            "('apple', 'kiwi', 'cherry')\n"
          ],
          "name": "stdout"
        }
      ]
    },
    {
      "cell_type": "markdown",
      "metadata": {
        "id": "zpmjZUyGhMCr",
        "colab_type": "text"
      },
      "source": [
        "5.Tuple Length"
      ]
    },
    {
      "cell_type": "code",
      "metadata": {
        "id": "MnEKN5w-lU-V",
        "colab_type": "code",
        "colab": {
          "base_uri": "https://localhost:8080/",
          "height": 34
        },
        "outputId": "ca93d9d6-1aa8-4a80-9cf1-f691827e9bfa"
      },
      "source": [
        "tuple3 = (\"apple\", \"banana\", \"cherry\")\n",
        "print(len(tuple3))"
      ],
      "execution_count": null,
      "outputs": [
        {
          "output_type": "stream",
          "text": [
            "3\n"
          ],
          "name": "stdout"
        }
      ]
    },
    {
      "cell_type": "markdown",
      "metadata": {
        "id": "u0OEY0LawzVd",
        "colab_type": "text"
      },
      "source": [
        "Dictionaries"
      ]
    },
    {
      "cell_type": "markdown",
      "metadata": {
        "id": "4RSgmgxnwfOg",
        "colab_type": "text"
      },
      "source": [
        "1.Accessing Items"
      ]
    },
    {
      "cell_type": "code",
      "metadata": {
        "id": "PiosBgS9wklb",
        "colab_type": "code",
        "colab": {
          "base_uri": "https://localhost:8080/",
          "height": 35
        },
        "outputId": "933994f6-deef-4e0e-bb9b-5ec2cc795645"
      },
      "source": [
        "dict1 = {\n",
        "  \"brand\": \"Ford\",\n",
        "  \"model\": \"Mustang\",\n",
        "  \"year\": 2004\n",
        "}\n",
        "x = dict1.get(\"model\")\n",
        "print(x)"
      ],
      "execution_count": null,
      "outputs": [
        {
          "output_type": "stream",
          "text": [
            "Mustang\n"
          ],
          "name": "stdout"
        }
      ]
    },
    {
      "cell_type": "markdown",
      "metadata": {
        "id": "zcwRjTfUwfqg",
        "colab_type": "text"
      },
      "source": [
        "2.Change Values"
      ]
    },
    {
      "cell_type": "code",
      "metadata": {
        "id": "6j488vApwlKh",
        "colab_type": "code",
        "colab": {
          "base_uri": "https://localhost:8080/",
          "height": 35
        },
        "outputId": "d437aac1-2485-4232-a639-bf8461eadf12"
      },
      "source": [
        "dict2 = {\n",
        "  \"brand\": \"Ford\",\n",
        "  \"model\": \"Mustang\",\n",
        "  \"year\": 2004\n",
        "}\n",
        "dict2[\"year\"] = 2018\n",
        "print(dict2)"
      ],
      "execution_count": null,
      "outputs": [
        {
          "output_type": "stream",
          "text": [
            "{'brand': 'Ford', 'model': 'Mustang', 'year': 2018}\n"
          ],
          "name": "stdout"
        }
      ]
    },
    {
      "cell_type": "markdown",
      "metadata": {
        "id": "M29fb0ZkwgBx",
        "colab_type": "text"
      },
      "source": [
        "3.Dictionary Length"
      ]
    },
    {
      "cell_type": "code",
      "metadata": {
        "id": "W1blThifwl2F",
        "colab_type": "code",
        "colab": {
          "base_uri": "https://localhost:8080/",
          "height": 35
        },
        "outputId": "09b9bfb6-dac0-4b4b-ab08-055c4aa2b719"
      },
      "source": [
        "print(len(dict1))"
      ],
      "execution_count": null,
      "outputs": [
        {
          "output_type": "stream",
          "text": [
            "3\n"
          ],
          "name": "stdout"
        }
      ]
    },
    {
      "cell_type": "markdown",
      "metadata": {
        "id": "SKmZ82kxwgWY",
        "colab_type": "text"
      },
      "source": [
        "4.Adding Items"
      ]
    },
    {
      "cell_type": "code",
      "metadata": {
        "id": "wiC7kYFUwmdN",
        "colab_type": "code",
        "colab": {
          "base_uri": "https://localhost:8080/",
          "height": 35
        },
        "outputId": "fa9e24b3-ac43-4eed-be8e-2177e126f131"
      },
      "source": [
        "dict3 = {\n",
        "  \"brand\": \"Ford\",\n",
        "  \"model\": \"Mustang\",\n",
        "  \"year\": 2004\n",
        "}\n",
        "dict3[\"color\"] = \"red\"\n",
        "print(dict3)"
      ],
      "execution_count": null,
      "outputs": [
        {
          "output_type": "stream",
          "text": [
            "{'brand': 'Ford', 'model': 'Mustang', 'year': 2004, 'color': 'red'}\n"
          ],
          "name": "stdout"
        }
      ]
    },
    {
      "cell_type": "markdown",
      "metadata": {
        "id": "bPnxDU2hwgkA",
        "colab_type": "text"
      },
      "source": [
        "5.Removing Items"
      ]
    },
    {
      "cell_type": "code",
      "metadata": {
        "id": "CeyIQcdPwnDr",
        "colab_type": "code",
        "colab": {
          "base_uri": "https://localhost:8080/",
          "height": 35
        },
        "outputId": "9ad59392-4d5f-45a9-afb6-6d7890e5876a"
      },
      "source": [
        "dict4 = {\n",
        "  \"brand\": \"Ford\",\n",
        "  \"model\": \"Mustang\",\n",
        "  \"year\": 1964\n",
        "}\n",
        "dict4.pop(\"model\")\n",
        "print(dict4)"
      ],
      "execution_count": null,
      "outputs": [
        {
          "output_type": "stream",
          "text": [
            "{'brand': 'Ford', 'year': 1964}\n"
          ],
          "name": "stdout"
        }
      ]
    },
    {
      "cell_type": "markdown",
      "metadata": {
        "id": "jcVYpVquw6Zx",
        "colab_type": "text"
      },
      "source": [
        "Strings"
      ]
    },
    {
      "cell_type": "markdown",
      "metadata": {
        "id": "Jwm0CALuwg8A",
        "colab_type": "text"
      },
      "source": [
        "1.Slicing"
      ]
    },
    {
      "cell_type": "code",
      "metadata": {
        "id": "r4povhJ9wnq0",
        "colab_type": "code",
        "colab": {
          "base_uri": "https://localhost:8080/",
          "height": 35
        },
        "outputId": "af32cd25-7cb7-478c-d0f3-b859cdb4e584"
      },
      "source": [
        "a = \"Hello, World!\"\n",
        "print(a[2:5])"
      ],
      "execution_count": null,
      "outputs": [
        {
          "output_type": "stream",
          "text": [
            "llo\n"
          ],
          "name": "stdout"
        }
      ]
    },
    {
      "cell_type": "markdown",
      "metadata": {
        "id": "fHeEQz1ZwhJt",
        "colab_type": "text"
      },
      "source": [
        "2.Negative Indexing"
      ]
    },
    {
      "cell_type": "code",
      "metadata": {
        "id": "X7tiwqdcwowO",
        "colab_type": "code",
        "colab": {
          "base_uri": "https://localhost:8080/",
          "height": 35
        },
        "outputId": "6a469a12-63c3-4967-ef49-92aaebcb6046"
      },
      "source": [
        "a = \"Hello, World!\"\n",
        "print(a[-5:-2])"
      ],
      "execution_count": null,
      "outputs": [
        {
          "output_type": "stream",
          "text": [
            "orl\n"
          ],
          "name": "stdout"
        }
      ]
    },
    {
      "cell_type": "markdown",
      "metadata": {
        "id": "VT-pOBtuwhWO",
        "colab_type": "text"
      },
      "source": [
        "3.String Length"
      ]
    },
    {
      "cell_type": "code",
      "metadata": {
        "id": "x0uqJmjPwpdo",
        "colab_type": "code",
        "colab": {
          "base_uri": "https://localhost:8080/",
          "height": 35
        },
        "outputId": "0ff39a85-f55a-474b-86e8-19a4413e253f"
      },
      "source": [
        "a = \"Hello, World!\"\n",
        "print(len(a))"
      ],
      "execution_count": null,
      "outputs": [
        {
          "output_type": "stream",
          "text": [
            "13\n"
          ],
          "name": "stdout"
        }
      ]
    },
    {
      "cell_type": "markdown",
      "metadata": {
        "id": "rok-u2SHwhg6",
        "colab_type": "text"
      },
      "source": [
        "4.Check String"
      ]
    },
    {
      "cell_type": "code",
      "metadata": {
        "id": "W-rtE2N9wqFv",
        "colab_type": "code",
        "colab": {
          "base_uri": "https://localhost:8080/",
          "height": 35
        },
        "outputId": "df5b9d92-9dda-4073-86b5-b986548285bc"
      },
      "source": [
        "txt = \"The rain in Spain stays mainly in the plain\"\n",
        "x = \"ain\" in txt\n",
        "print(x)"
      ],
      "execution_count": null,
      "outputs": [
        {
          "output_type": "stream",
          "text": [
            "True\n"
          ],
          "name": "stdout"
        }
      ]
    },
    {
      "cell_type": "markdown",
      "metadata": {
        "id": "1lmykGEVwhsQ",
        "colab_type": "text"
      },
      "source": [
        "5.String Concatenation"
      ]
    },
    {
      "cell_type": "code",
      "metadata": {
        "id": "z_af1CZhwq2W",
        "colab_type": "code",
        "colab": {
          "base_uri": "https://localhost:8080/",
          "height": 35
        },
        "outputId": "ea4b7e43-852e-41ee-9ff4-3de04ef52ed6"
      },
      "source": [
        "a = \"Hello\"\n",
        "b = \"World\"\n",
        "c = a + b\n",
        "print(c)"
      ],
      "execution_count": null,
      "outputs": [
        {
          "output_type": "stream",
          "text": [
            "HelloWorld\n"
          ],
          "name": "stdout"
        }
      ]
    },
    {
      "cell_type": "markdown",
      "metadata": {
        "id": "6ofCAgH2xBXY",
        "colab_type": "text"
      },
      "source": [
        "Sets"
      ]
    },
    {
      "cell_type": "markdown",
      "metadata": {
        "id": "uqrwWEnqwh3O",
        "colab_type": "text"
      },
      "source": [
        "1.Access Items"
      ]
    },
    {
      "cell_type": "code",
      "metadata": {
        "id": "5EY3WWvEwrms",
        "colab_type": "code",
        "colab": {
          "base_uri": "https://localhost:8080/",
          "height": 69
        },
        "outputId": "f9defe26-a719-496d-f4e7-6110d11d760d"
      },
      "source": [
        "set1 = {\"apple\", \"banana\", \"cherry\"}\n",
        "for x in set1:\n",
        "  print(x)"
      ],
      "execution_count": null,
      "outputs": [
        {
          "output_type": "stream",
          "text": [
            "banana\n",
            "cherry\n",
            "apple\n"
          ],
          "name": "stdout"
        }
      ]
    },
    {
      "cell_type": "markdown",
      "metadata": {
        "id": "w6gf2D76wiCX",
        "colab_type": "text"
      },
      "source": [
        "2.Add Items"
      ]
    },
    {
      "cell_type": "code",
      "metadata": {
        "id": "Ofv7Oeu5wsPY",
        "colab_type": "code",
        "colab": {
          "base_uri": "https://localhost:8080/",
          "height": 35
        },
        "outputId": "a35fbcdd-811f-4e12-d323-7ab627734de9"
      },
      "source": [
        "set2 = {\"apple\", \"banana\", \"cherry\"}\n",
        "set2.add(\"orange\")\n",
        "print(set2)"
      ],
      "execution_count": null,
      "outputs": [
        {
          "output_type": "stream",
          "text": [
            "{'banana', 'cherry', 'orange', 'apple'}\n"
          ],
          "name": "stdout"
        }
      ]
    },
    {
      "cell_type": "markdown",
      "metadata": {
        "id": "KSXFuFmQwiM0",
        "colab_type": "text"
      },
      "source": [
        "3.Length of a Set"
      ]
    },
    {
      "cell_type": "code",
      "metadata": {
        "id": "ovFTm5J-ws4u",
        "colab_type": "code",
        "colab": {
          "base_uri": "https://localhost:8080/",
          "height": 35
        },
        "outputId": "9f3eaf2b-8668-46ce-8e42-f04e8de20ab2"
      },
      "source": [
        "print(len(set2))"
      ],
      "execution_count": null,
      "outputs": [
        {
          "output_type": "stream",
          "text": [
            "4\n"
          ],
          "name": "stdout"
        }
      ]
    },
    {
      "cell_type": "markdown",
      "metadata": {
        "id": "WiV5FLYQwiXM",
        "colab_type": "text"
      },
      "source": [
        "4.Remove Item"
      ]
    },
    {
      "cell_type": "code",
      "metadata": {
        "id": "-nrHOA9mwteE",
        "colab_type": "code",
        "colab": {
          "base_uri": "https://localhost:8080/",
          "height": 35
        },
        "outputId": "bbef40a9-5575-42ca-be8c-717a7b5fd528"
      },
      "source": [
        "set3 = {\"apple\", \"banana\", \"cherry\"}\n",
        "set3.remove(\"banana\")\n",
        "print(set3)"
      ],
      "execution_count": null,
      "outputs": [
        {
          "output_type": "stream",
          "text": [
            "{'cherry', 'apple'}\n"
          ],
          "name": "stdout"
        }
      ]
    },
    {
      "cell_type": "markdown",
      "metadata": {
        "id": "bGac_AHPwih2",
        "colab_type": "text"
      },
      "source": [
        "5.Join Two Sets\n"
      ]
    },
    {
      "cell_type": "code",
      "metadata": {
        "id": "6WVcNgCGwuKS",
        "colab_type": "code",
        "colab": {
          "base_uri": "https://localhost:8080/",
          "height": 35
        },
        "outputId": "9399cdc8-ca39-4810-f216-ceeb1123f6fe"
      },
      "source": [
        "set4 = {\"a\", \"b\" , \"c\"}\n",
        "set5 = {1, 2, 3}\n",
        "\n",
        "set6 = set4.union(set5)\n",
        "print(set6)"
      ],
      "execution_count": null,
      "outputs": [
        {
          "output_type": "stream",
          "text": [
            "{1, 2, 3, 'b', 'c', 'a'}\n"
          ],
          "name": "stdout"
        }
      ]
    }
  ]
}